{
  "nbformat": 4,
  "nbformat_minor": 0,
  "metadata": {
    "colab": {
      "name": "Supply chain notebook to identify over spend and under spend",
      "provenance": [],
      "private_outputs": true,
      "collapsed_sections": [],
      "authorship_tag": "ABX9TyPhbKWFxjNQONeU079e513T",
      "include_colab_link": true
    },
    "kernelspec": {
      "name": "python3",
      "display_name": "Python 3"
    },
    "accelerator": "GPU"
  },
  "cells": [
    {
      "cell_type": "markdown",
      "metadata": {
        "id": "view-in-github",
        "colab_type": "text"
      },
      "source": [
        "<a href=\"https://colab.research.google.com/github/EOKELLO/Supply-Chain-Project/blob/master/Supply_chain_notebook_to_identify_over_spend_and_under_spend.ipynb\" target=\"_parent\"><img src=\"https://colab.research.google.com/assets/colab-badge.svg\" alt=\"Open In Colab\"/></a>"
      ]
    },
    {
      "cell_type": "markdown",
      "metadata": {
        "id": "lVM-hV1ClhOs",
        "colab_type": "text"
      },
      "source": [
        "# **Define the question**\n",
        "\n",
        "To stream line sourcing by Identifying cost reduction and where potential saving can be made."
      ]
    },
    {
      "cell_type": "markdown",
      "metadata": {
        "id": "uubdQLZWmABR",
        "colab_type": "text"
      },
      "source": [
        "# **The Metric of success**\n",
        "\n",
        "1. Identify discrepancies successfully\n",
        "\n",
        "2. From the analysis identify one process improvement\n",
        "\n"
      ]
    },
    {
      "cell_type": "markdown",
      "metadata": {
        "id": "ulZLOVSznTgn",
        "colab_type": "text"
      },
      "source": [
        "# **The context**\n",
        "\n",
        "The Global Sourcing team at a company is responsible for sourcing and delivering all products that farmers purchase each season. To ensure improved service delivery and processes, the Inputs team does a lot analyses on past orders and deliveries with a focus on costs and where we can identify potential savings.\n"
      ]
    },
    {
      "cell_type": "markdown",
      "metadata": {
        "id": "gpY29tr7nYu3",
        "colab_type": "text"
      },
      "source": [
        "# **Experimental Design**\n",
        "\n",
        "We shall Load the data in a pandas data frame\n",
        "\n",
        "Clean the data.\n",
        "\n",
        "Data analysis\n",
        "\n",
        "list the insights drawn from the data\n",
        "\n",
        "providing insights on how we can make improvements."
      ]
    },
    {
      "cell_type": "markdown",
      "metadata": {
        "id": "hlAD1fPcpMB-",
        "colab_type": "text"
      },
      "source": [
        "# **Data source**\n",
        "\n",
        "The data source was from the global sourcing department."
      ]
    },
    {
      "cell_type": "markdown",
      "metadata": {
        "id": "IVuFhyGtnex1",
        "colab_type": "text"
      },
      "source": [
        "# **Appropriateness of data**\n",
        "1. The dataset in regard to our research question\n",
        "\n",
        "b)Is it relevant \n",
        "\n",
        "c)Is the dataset reliable\n",
        "\n"
      ]
    },
    {
      "cell_type": "markdown",
      "metadata": {
        "id": "jDSD8vTx7nvD",
        "colab_type": "text"
      },
      "source": [
        "# **We load the important libraries**"
      ]
    },
    {
      "cell_type": "code",
      "metadata": {
        "id": "39yXb17Xk70R",
        "colab_type": "code",
        "colab": {}
      },
      "source": [
        "import pandas as pd\n",
        "import numpy as np\n",
        "import matplotlib.pyplot as plt\n",
        "import seaborn as sns\n"
      ],
      "execution_count": 0,
      "outputs": []
    },
    {
      "cell_type": "code",
      "metadata": {
        "id": "f2boF9EV7z58",
        "colab_type": "code",
        "colab": {}
      },
      "source": [
        "#we now load our dataset\n",
        "df = pd.read_csv('/content/orders.csv', skiprows=1)"
      ],
      "execution_count": 0,
      "outputs": []
    },
    {
      "cell_type": "code",
      "metadata": {
        "id": "fXCbruhq7837",
        "colab_type": "code",
        "colab": {}
      },
      "source": [
        "#we get more information about the data set view the first 5 row\n",
        "df.head()"
      ],
      "execution_count": 0,
      "outputs": []
    },
    {
      "cell_type": "code",
      "metadata": {
        "id": "j4TnqL6o-A8i",
        "colab_type": "code",
        "colab": {}
      },
      "source": [
        "#we view the last 5 rows\n",
        "df.tail()"
      ],
      "execution_count": 0,
      "outputs": []
    },
    {
      "cell_type": "code",
      "metadata": {
        "id": "07Q3rXpKbQgL",
        "colab_type": "code",
        "colab": {}
      },
      "source": [
        "#lets get the size of our data\n",
        "df.shape"
      ],
      "execution_count": 0,
      "outputs": []
    },
    {
      "cell_type": "markdown",
      "metadata": {
        "id": "XAq9sMOubffc",
        "colab_type": "text"
      },
      "source": [
        "The dataset has 699 rows and 28 columns"
      ]
    },
    {
      "cell_type": "code",
      "metadata": {
        "id": "9qYw_g3XdhUn",
        "colab_type": "code",
        "colab": {}
      },
      "source": [
        ""
      ],
      "execution_count": 0,
      "outputs": []
    },
    {
      "cell_type": "markdown",
      "metadata": {
        "id": "Vd3gR2S-sA51",
        "colab_type": "text"
      },
      "source": [
        "# **Data Cleaning**"
      ]
    },
    {
      "cell_type": "markdown",
      "metadata": {
        "id": "q4KgVlWjsGkb",
        "colab_type": "text"
      },
      "source": [
        "# **Validity** - Here we only pick the relevant rows and columns that will help  in our scenario"
      ]
    },
    {
      "cell_type": "code",
      "metadata": {
        "id": "Ixf3ChfgTkf5",
        "colab_type": "code",
        "colab": {}
      },
      "source": [
        "#we shall pick the records(rows) that we need for the test which should contain  what was ordered to what was delivered to enable us make some inferences in terms of spend.\n",
        "#ie all the records with proc status== ordered and received orders.\n",
        "df1= df[(df['Proc. Status']== 'Ordered but not yet Delivered') & (df['Document Type']== 'GRPO')]\n",
        "df1.head()"
      ],
      "execution_count": 0,
      "outputs": []
    },
    {
      "cell_type": "code",
      "metadata": {
        "id": "mVDRyOTEa4Jo",
        "colab_type": "code",
        "colab": {}
      },
      "source": [
        "#we check the size of the new dataset df1\n",
        "df1.shape"
      ],
      "execution_count": 0,
      "outputs": []
    },
    {
      "cell_type": "markdown",
      "metadata": {
        "id": "T_jv3Pfzbjtf",
        "colab_type": "text"
      },
      "source": [
        "After selecting our records we only have 294 rows and 28 columns"
      ]
    },
    {
      "cell_type": "code",
      "metadata": {
        "id": "OWFUyUaubp8k",
        "colab_type": "code",
        "colab": {}
      },
      "source": [
        "#we then proceed to select the important columns for our study. since we are looking at the spend we shall restrict our selves to columns affecting spend, orders made,\n",
        "#orders received , quantities and delivery and assign to dataframe called df2\n",
        "\n",
        "df2 = df1[['Proc. Status','Category', 'Quantity Requested','Unit Cost', 'Total Cost','Document Type','Quantity Delivered','Quantity']].head()"
      ],
      "execution_count": 0,
      "outputs": []
    },
    {
      "cell_type": "markdown",
      "metadata": {
        "id": "1iBCi8QusUW4",
        "colab_type": "text"
      },
      "source": [
        "**Completeness**"
      ]
    },
    {
      "cell_type": "code",
      "metadata": {
        "id": "tzXMyjpwn3lc",
        "colab_type": "code",
        "colab": {}
      },
      "source": [
        "#we check whether our working dataset is complete\n",
        "#are there missing values\n",
        "df2.isnull().sum()"
      ],
      "execution_count": 0,
      "outputs": []
    },
    {
      "cell_type": "code",
      "metadata": {
        "id": "_lR0C71WpF7j",
        "colab_type": "code",
        "colab": {}
      },
      "source": [
        "#In the dataset df2 below, from the code we can see that there are no missing values but the record for category lab equipment is reading empty.  This accounts for our under spend. The Lab equipments were ordered\n",
        "# and delivered but not paid for. so there could be some errors of ommission . There is a problem with the accuracy of our data which has implications on our spending. In this case\n",
        "# it accounts for our Under spend."
      ],
      "execution_count": 0,
      "outputs": []
    },
    {
      "cell_type": "code",
      "metadata": {
        "id": "4a9bL0dWeP_b",
        "colab_type": "code",
        "colab": {}
      },
      "source": [
        "df2.head()"
      ],
      "execution_count": 0,
      "outputs": []
    },
    {
      "cell_type": "code",
      "metadata": {
        "id": "STUZv1IhfYfL",
        "colab_type": "code",
        "colab": {}
      },
      "source": [
        "df2.dtypes"
      ],
      "execution_count": 0,
      "outputs": []
    },
    {
      "cell_type": "markdown",
      "metadata": {
        "id": "vFqJLls_tPjM",
        "colab_type": "text"
      },
      "source": [
        "# **Consistency** \n",
        "\n",
        "here we check for any duplicates"
      ]
    },
    {
      "cell_type": "code",
      "metadata": {
        "id": "mofZB9c4taOa",
        "colab_type": "code",
        "colab": {}
      },
      "source": [
        "df2.duplicated()"
      ],
      "execution_count": 0,
      "outputs": []
    },
    {
      "cell_type": "code",
      "metadata": {
        "id": "JZN8sRILtqv5",
        "colab_type": "code",
        "colab": {}
      },
      "source": [
        "#There is a duplication so we drop the duplicated record as its already captured in the recod 3\n",
        "df2.drop_duplicates( inplace=True)\n",
        "df2"
      ],
      "execution_count": 0,
      "outputs": []
    },
    {
      "cell_type": "markdown",
      "metadata": {
        "id": "u8BI6QbDA-u9",
        "colab_type": "text"
      },
      "source": [
        "**Accuracy** - we check whether interdependent rows add up or not! We can do some feature engineering to check whether interdependent rows agree."
      ]
    },
    {
      "cell_type": "code",
      "metadata": {
        "id": "rguvLjDwfh75",
        "colab_type": "code",
        "colab": {}
      },
      "source": [
        "\n",
        "#we need to create an extra column called  difference but first\n",
        "#since our datatypes are objects for the quantities we convert them to float so that we are able to create a column indicating the diffence of the two columns if\n",
        "#it exists since it will help to explain the discrepancies\n",
        "#\n",
        "df2['Quantity Requested'] = df2['Quantity Requested'].replace(',','', regex=True).astype('float64')\n",
        "df2['Quantity Delivered'] = df2['Quantity Delivered'].replace(',','', regex=True).astype('float64')"
      ],
      "execution_count": 0,
      "outputs": []
    },
    {
      "cell_type": "code",
      "metadata": {
        "id": "Y5OrJdxzTkaW",
        "colab_type": "code",
        "colab": {}
      },
      "source": [
        "#we create a column to help us identify whether there was a difference in the quantity ordered and quantity received. This will help us \n",
        "#clarify our over spend or under spend . we shall call this column difference. we expect that if the quantity requested and quantity delivered is zero then the data is accurately captured for the columns in queston\n",
        "df2['difference'] = df2['Quantity Requested'] - df2['Quantity Delivered']\n",
        "df2\n"
      ],
      "execution_count": 0,
      "outputs": []
    },
    {
      "cell_type": "code",
      "metadata": {
        "id": "VwwRorzjpvKA",
        "colab_type": "code",
        "colab": {}
      },
      "source": [
        "#we replace - with 0 to enable us proceed\n",
        "df2['Unit Cost'] = df2['Unit Cost'].replace('-','NaN')\n",
        "df2['Total Cost'] = df2['Total Cost'].replace('-','NaN')"
      ],
      "execution_count": 0,
      "outputs": []
    },
    {
      "cell_type": "code",
      "metadata": {
        "id": "7qsOEb_tqb21",
        "colab_type": "code",
        "colab": {}
      },
      "source": [
        "#We then replace the NaN with 0 as this is the standard way pandas recognizes missing values.\n",
        "df2['Unit Cost'] = df2['Unit Cost'].replace('NaN','0.0')\n",
        "df2['Total Cost'] = df2['Total Cost'].replace('NaN','0.0')\n",
        "df2"
      ],
      "execution_count": 0,
      "outputs": []
    },
    {
      "cell_type": "markdown",
      "metadata": {
        "id": "hXrAuu77R16X",
        "colab_type": "text"
      },
      "source": [
        "From  the df2 dataframe already we see that there is an excess in the category(Solar).This accounts for an overspend for that season."
      ]
    },
    {
      "cell_type": "code",
      "metadata": {
        "id": "w0FphGQl-LAm",
        "colab_type": "code",
        "colab": {}
      },
      "source": [
        "#looking at the data we also expect to see a level of accuracy in the columns of total cost and unit cost.so we\n",
        "#shall create a column and call it verifier. we expect that all values of the verifier should agree with the quantity column\n",
        "#first we shall convert our datatypes to enable the creation of the verifier column\n",
        "df2['Unit Cost'] = df2['Unit Cost'].replace(',','', regex=True).astype('float64')\n",
        "df2['Total Cost'] = df2['Total Cost'].replace(',','', regex=True).astype('float64')\n",
        "df2['Quantity'] = df2['Quantity'].replace(',','', regex=True).astype('float64')"
      ],
      "execution_count": 0,
      "outputs": []
    },
    {
      "cell_type": "code",
      "metadata": {
        "id": "cL9oexbb-KXb",
        "colab_type": "code",
        "colab": {}
      },
      "source": [
        "#lets check whether the we now have correct data types\n",
        "df2.dtypes"
      ],
      "execution_count": 0,
      "outputs": []
    },
    {
      "cell_type": "code",
      "metadata": {
        "id": "g8LJEYNOrHpP",
        "colab_type": "code",
        "colab": {}
      },
      "source": [
        "#lets now proceed to create our new column verifier\n",
        "df2['verifier'] = df2['Total Cost']/df2['Unit Cost']\n",
        "df2"
      ],
      "execution_count": 0,
      "outputs": []
    },
    {
      "cell_type": "markdown",
      "metadata": {
        "id": "Xk9UrqRoBTDv",
        "colab_type": "text"
      },
      "source": [
        "It also highlights a discrepancy between quantity requested and quantity delivered hence questioning the accuracy of the dataset"
      ]
    },
    {
      "cell_type": "markdown",
      "metadata": {
        "id": "nn3YAN55vDNc",
        "colab_type": "text"
      },
      "source": [
        "#Bullet points summarizing discrepancies\n",
        "\n",
        "\n",
        "1.**Duplicated** records which accounts for an **overspend**. The possible cause is that the stakeholders dont share a common platform so none can avert this before hand\n",
        "2.**Accuracy**, an item was  ordered in the system(Lab equipment) and was eventually delivered but the cost was **ommitted**. This accounted for an **underspend**. This could still be as a result of stakeholders not being connected to monitor the flow information flow and avert this.\n",
        "\n",
        "3.Excess delivery compared to the quantity ordered in the solar category. This resulted to an over spend as the organization paid for the solar deliverer. One of the possible causes still is that the systems of the various stakeholders is not connected"
      ]
    },
    {
      "cell_type": "markdown",
      "metadata": {
        "id": "eVx7SY24x5JL",
        "colab_type": "text"
      },
      "source": [
        "# **Process Improvemnt suggestion**"
      ]
    },
    {
      "cell_type": "markdown",
      "metadata": {
        "id": "co0Mwa8xxwRX",
        "colab_type": "text"
      },
      "source": [
        "1. Definition of Process Improvement is **AUTOMATION**\n",
        "\n",
        "Automation integrates the sysstems used by the organization and enhances visibility as every stakeholder is able to track the processes hence reducing human and improving the data quality\n",
        "\n",
        "2. The key stakeholders in this new process are suppliers,deliverers(Transport and Logistics team),procurement team,inventory managers &goods_receiving staff,,Budget team, Monitoring and Evaluation team and the data team managing the systems. For supply chain the organization could leverage on IOT , Blockchain to enhance visibity to drive efficiency hence cost reduction."
      ]
    },
    {
      "cell_type": "code",
      "metadata": {
        "id": "-PsTfMJUoCQX",
        "colab_type": "code",
        "colab": {}
      },
      "source": [
        ""
      ],
      "execution_count": 0,
      "outputs": []
    },
    {
      "cell_type": "markdown",
      "metadata": {
        "id": "SRMdgru617qK",
        "colab_type": "text"
      },
      "source": [
        ""
      ]
    }
  ]
}